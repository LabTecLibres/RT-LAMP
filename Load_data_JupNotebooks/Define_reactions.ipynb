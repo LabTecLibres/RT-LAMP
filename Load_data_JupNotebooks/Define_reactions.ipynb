{
 "cells": [
  {
   "cell_type": "markdown",
   "metadata": {},
   "source": [
    "# Define used reactions Notebook\n",
    "This notebook is designed to define the reactions used in the assays.<br><br>\n",
    "Notice that: \n",
    "* Here you create \"components\" and reaction as objects.<br>\n",
    "* Reaction recipe is defined by the addition of components to its attributes.<br>\n",
    "* Components can be composed of sub-components objects.<br>\n",
    "* Store them in a `database` object to be able use them in other notebook. <br>\n",
    "* The use of this notebook is to help in and explain how to add reactions but you can add reactions to the database in any other notebook."
   ]
  },
  {
   "cell_type": "code",
   "execution_count": 1,
   "metadata": {},
   "outputs": [],
   "source": [
    "from rt_module import rt_data_manage as rdm"
   ]
  },
  {
   "cell_type": "markdown",
   "metadata": {},
   "source": [
    "Load the database and create a temporal list to store the components"
   ]
  },
  {
   "cell_type": "code",
   "execution_count": 2,
   "metadata": {},
   "outputs": [
    {
     "name": "stdout",
     "output_type": "stream",
     "text": [
      "\n",
      "Database \" LAMP_COVID.pkl \" is currently in the folder\n",
      "\n",
      "do you want to load it? (y/n): y\n",
      "\n",
      "Database \" LAMP_COVID.pkl \" was succefully loaded\n"
     ]
    }
   ],
   "source": [
    "# create the database or load the database file \n",
    "db_folder = 'Real_time_data/Database/'\n",
    "db_filename = 'LAMP_COVID'        # current or new database name\n",
    "\n",
    "database = rdm.load_or_create_database(db_folder, db_filename) #, db_name=db_name, db_description=db_description)"
   ]
  },
  {
   "cell_type": "code",
   "execution_count": 3,
   "metadata": {},
   "outputs": [
    {
     "name": "stdout",
     "output_type": "stream",
     "text": [
      "[0] wells\n",
      "[1] well_sets\n",
      "[2] figures\n",
      "[3] components\n",
      "[4] reactions\n",
      "[5] enzymes\n"
     ]
    }
   ],
   "source": [
    "rdm.print_list(database.elements)"
   ]
  },
  {
   "cell_type": "markdown",
   "metadata": {},
   "source": [
    "Run next box to load reactions, components and enzymes from database (it only works if there are previous stored elements)"
   ]
  },
  {
   "cell_type": "code",
   "execution_count": 5,
   "metadata": {},
   "outputs": [],
   "source": [
    "components = database.elements['components']\n",
    "reactions = database.elements['reactions']\n",
    "enzymes = database.elements['enzymes']"
   ]
  },
  {
   "cell_type": "markdown",
   "metadata": {},
   "source": [
    "##### general components defintion"
   ]
  },
  {
   "cell_type": "markdown",
   "metadata": {},
   "source": [
    "Run next box if there is no previous componentes stored (or you don´t want to use them)"
   ]
  },
  {
   "cell_type": "code",
   "execution_count": 6,
   "metadata": {},
   "outputs": [
    {
     "name": "stdout",
     "output_type": "stream",
     "text": [
      "\n",
      " components  was added to the database\n",
      "\n"
     ]
    }
   ],
   "source": [
    "components = list()\n",
    "#database.add_element(components, 'components')  #run it if database doesn't have a component list"
   ]
  },
  {
   "cell_type": "code",
   "execution_count": 7,
   "metadata": {},
   "outputs": [],
   "source": [
    "c_name = 'Evagreen'\n",
    "c_con = 20\n",
    "c_units = 'X'\n",
    "c_descript = 'DNA/RNA Fluorescent dye'\n",
    "\n",
    "## create and append the component\n",
    "components.append(rdm.Component(c_name, c_con, c_units, description = c_descript))"
   ]
  },
  {
   "cell_type": "code",
   "execution_count": 8,
   "metadata": {},
   "outputs": [],
   "source": [
    "c_name = 'MgSO4'\n",
    "c_con = 100\n",
    "c_units = 'mM'\n",
    "c_descript = 'Magnesium sulfate'\n",
    "\n",
    "## create and append the component\n",
    "components.append(rdm.Component(c_name, c_con, c_units, description = c_descript))"
   ]
  },
  {
   "cell_type": "code",
   "execution_count": 9,
   "metadata": {},
   "outputs": [],
   "source": [
    "c_name = 'N2 set primers Mix'\n",
    "c_con = 10\n",
    "c_units = 'X'\n",
    "c_descript = 'N2 set primers at 10X concentration'\n",
    "\n",
    "## create and append the component\n",
    "components.append(rdm.Component(c_name, c_con, c_units, description = c_descript))"
   ]
  },
  {
   "cell_type": "code",
   "execution_count": 10,
   "metadata": {},
   "outputs": [],
   "source": [
    "c_name = 'dNTPs'\n",
    "c_con = 10\n",
    "c_units = 'mM'\n",
    "c_descript = 'Deoxynucleotide Triphosphates dATP, dCTP, dGTP and dTTP in water solution'\n",
    "\n",
    "## create and append the component\n",
    "components.append(rdm.Component(c_name, c_con, c_units, description = c_descript))"
   ]
  },
  {
   "cell_type": "code",
   "execution_count": 11,
   "metadata": {},
   "outputs": [],
   "source": [
    "c_name = 'NEB Isothermal Amplification Buffer'\n",
    "c_con = 10\n",
    "c_units = 'X'\n",
    "c_descript = 'NEB Isothermal Amplification Buffer Pack, comes with BstLF 2.0'\n",
    "\n",
    "## create and append the component\n",
    "components.append(rdm.Component(c_name, c_con, c_units, description = c_descript))"
   ]
  },
  {
   "cell_type": "code",
   "execution_count": 12,
   "metadata": {},
   "outputs": [],
   "source": [
    "c_name = 'HM Isothermal Amplification Buffer'\n",
    "c_con = 10\n",
    "c_units = 'X'\n",
    "c_descript = 'Home made Isothermal Amplification Buffer'\n",
    "\n",
    "## create and append the component\n",
    "components.append(rdm.Component(c_name, c_con, c_units, description = c_descript))"
   ]
  },
  {
   "cell_type": "code",
   "execution_count": 13,
   "metadata": {},
   "outputs": [],
   "source": [
    "c_name = 'ThermoPol® Reaction Buffer'\n",
    "c_con = 10\n",
    "c_units = 'X'\n",
    "c_descript = 'NEB ThermoPol® Reaction Buffer Pack, comes with NEB BstLF'\n",
    "\n",
    "## create and append the component\n",
    "components.append(rdm.Component(c_name, c_con, c_units, description = c_descript))"
   ]
  },
  {
   "cell_type": "markdown",
   "metadata": {},
   "source": [
    "#### create sub components "
   ]
  },
  {
   "cell_type": "code",
   "execution_count": 14,
   "metadata": {},
   "outputs": [],
   "source": [
    "c_name = 'dATP'\n",
    "c_con = 100\n",
    "c_units = 'mM'\n",
    "c_descript = 'dATP in water solution. Thermo Scientific'\n",
    "\n",
    "## create and append the component\n",
    "components.append(rdm.Component(c_name, c_con, c_units, description = c_descript))\n"
   ]
  },
  {
   "cell_type": "code",
   "execution_count": 15,
   "metadata": {},
   "outputs": [],
   "source": [
    "c_name = 'dTTP'\n",
    "c_con = 100\n",
    "c_units = 'mM'\n",
    "c_descript = 'dTTP in water solution. Thermo Scientific'\n",
    "\n",
    "## create and append the component\n",
    "components.append(rdm.Component(c_name, c_con, c_units, description = c_descript))\n"
   ]
  },
  {
   "cell_type": "code",
   "execution_count": 16,
   "metadata": {},
   "outputs": [],
   "source": [
    "c_name = 'dGTP'\n",
    "c_con = 100\n",
    "c_units = 'mM'\n",
    "c_descript = 'dGTP in water solution. Thermo Scientific'\n",
    "\n",
    "## create and append the component\n",
    "components.append(rdm.Component(c_name, c_con, c_units, description = c_descript))\n"
   ]
  },
  {
   "cell_type": "code",
   "execution_count": 17,
   "metadata": {},
   "outputs": [],
   "source": [
    "c_name = 'dCTP'\n",
    "c_con = 100\n",
    "c_units = 'mM'\n",
    "c_descript = 'dCTP in water solution. Thermo Scientific'\n",
    "\n",
    "## create and append the component\n",
    "components.append(rdm.Component(c_name, c_con, c_units, description = c_descript))\n"
   ]
  },
  {
   "cell_type": "code",
   "execution_count": 18,
   "metadata": {},
   "outputs": [],
   "source": [
    "c_name = 'N2-F3'\n",
    "c_con = 100\n",
    "c_units = 'mM'\n",
    "c_descript = 'ACCAGGAACTAATCAGACAAG'\n",
    "\n",
    "## create and append the component\n",
    "components.append(rdm.Component(c_name, c_con, c_units, description = c_descript))"
   ]
  },
  {
   "cell_type": "code",
   "execution_count": 19,
   "metadata": {},
   "outputs": [],
   "source": [
    "c_name = 'N2-B3'\n",
    "c_con = 100\n",
    "c_units = 'mM'\n",
    "c_descript = 'GACTTGATCTTTGAAATTTGGATCT'\n",
    "\n",
    "## create and append the component\n",
    "components.append(rdm.Component(c_name, c_con, c_units, description = c_descript))"
   ]
  },
  {
   "cell_type": "code",
   "execution_count": 20,
   "metadata": {},
   "outputs": [],
   "source": [
    "c_name = 'N2-FIP'\n",
    "c_con = 100\n",
    "c_units = 'mM'\n",
    "c_descript = 'TTCCGAAGAACGCTGAAGCGGAACTGATTACAAACATTGGCC'\n",
    "\n",
    "## create and append the component\n",
    "components.append(rdm.Component(c_name, c_con, c_units, description = c_descript))"
   ]
  },
  {
   "cell_type": "code",
   "execution_count": 21,
   "metadata": {},
   "outputs": [],
   "source": [
    "c_name = 'N2-BIP'\n",
    "c_con = 100\n",
    "c_units = 'mM'\n",
    "c_descript = 'CGCATTGGCATGGAAGTCACAATTTGATGGCACCTGTGTA'\n",
    "\n",
    "## create and append the component\n",
    "components.append(rdm.Component(c_name, c_con, c_units, description = c_descript))"
   ]
  },
  {
   "cell_type": "code",
   "execution_count": 22,
   "metadata": {},
   "outputs": [],
   "source": [
    "c_name = 'N2-LF'\n",
    "c_con = 100\n",
    "c_units = 'mM'\n",
    "c_descript = 'GGGGGCAAATTGTGCAATTTG'\n",
    "\n",
    "## create and append the component\n",
    "components.append(rdm.Component(c_name, c_con, c_units, description = c_descript))"
   ]
  },
  {
   "cell_type": "code",
   "execution_count": 23,
   "metadata": {},
   "outputs": [],
   "source": [
    "c_name = 'N2-LB'\n",
    "c_con = 100\n",
    "c_units = 'mM'\n",
    "c_descript = 'CTTCGGGAACGTGGTTGACC'\n",
    "\n",
    "## create and append the component\n",
    "components.append(rdm.Component(c_name, c_con, c_units, description = c_descript))"
   ]
  },
  {
   "cell_type": "code",
   "execution_count": 24,
   "metadata": {},
   "outputs": [],
   "source": [
    "c_name = 'Tris-HCl pH 8.8. Filtered'\n",
    "c_con = 1000\n",
    "c_units = 'mM'\n",
    "c_descript = 'Trizma base + HCl solution, pH 8.8 @ 25°C. Filtered'\n",
    "\n",
    "## create and append the component\n",
    "components.append(rdm.Component(c_name, c_con, c_units, description = c_descript))"
   ]
  },
  {
   "cell_type": "code",
   "execution_count": 25,
   "metadata": {},
   "outputs": [],
   "source": [
    "c_name = '(NH4)2SO4. Filtered'\n",
    "c_con = 1000\n",
    "c_units = 'mM'\n",
    "c_descript = 'Ammonium sulfate solution. Filtered'\n",
    "\n",
    "## create and append the component\n",
    "components.append(rdm.Component(c_name, c_con, c_units, description = c_descript))"
   ]
  },
  {
   "cell_type": "code",
   "execution_count": 26,
   "metadata": {},
   "outputs": [],
   "source": [
    "c_name = 'KCl. Filtered'\n",
    "c_con = 2500\n",
    "c_units = 'mM'\n",
    "c_descript = 'Potassium chloride. Filtered'\n",
    "\n",
    "## create and append the component\n",
    "components.append(rdm.Component(c_name, c_con, c_units, description = c_descript))"
   ]
  },
  {
   "cell_type": "code",
   "execution_count": 27,
   "metadata": {},
   "outputs": [],
   "source": [
    "c_name = 'MgSO4. Filtered'\n",
    "c_con = 1000\n",
    "c_units = 'mM'\n",
    "c_descript = 'Magnesium sulfate. Filtered'\n",
    "\n",
    "## create and append the component\n",
    "components.append(rdm.Component(c_name, c_con, c_units, description = c_descript))"
   ]
  },
  {
   "cell_type": "code",
   "execution_count": 28,
   "metadata": {},
   "outputs": [],
   "source": [
    "c_name = 'Tween® 20'\n",
    "c_con = 100\n",
    "c_units = '%'\n",
    "c_descript = 'Tween 20 absolute'\n",
    "\n",
    "## create and append the component\n",
    "components.append(rdm.Component(c_name, c_con, c_units, description = c_descript))"
   ]
  },
  {
   "cell_type": "code",
   "execution_count": 29,
   "metadata": {},
   "outputs": [],
   "source": [
    "c_name = 'DTT'\n",
    "c_con = 100\n",
    "c_units = 'mM'\n",
    "c_descript = 'Dithiothreitol solution'\n",
    "\n",
    "## create and append the component\n",
    "components.append(rdm.Component(c_name, c_con, c_units, description = c_descript))"
   ]
  },
  {
   "cell_type": "markdown",
   "metadata": {},
   "source": [
    "#### add sub components to components"
   ]
  },
  {
   "cell_type": "markdown",
   "metadata": {},
   "source": [
    "add/remove sub-components to components using `component.add_subcom()` / `component.remove_subcom()`"
   ]
  },
  {
   "cell_type": "code",
   "execution_count": 30,
   "metadata": {},
   "outputs": [
    {
     "name": "stdout",
     "output_type": "stream",
     "text": [
      "[0] 'Evagreen' at 20 X\n",
      "[1] 'MgSO4' at 100 mM\n",
      "[2] 'N2 set primers Mix' at 10 X\n",
      "[3] 'dNTPs' at 10 mM\n",
      "[4] 'NEB Isothermal Amplification Buffer' at 10 X\n",
      "[5] 'HM Isothermal Amplification Buffer' at 10 X\n",
      "[6] 'ThermoPol® Reaction Buffer' at 10 X\n",
      "[7] 'dATP' at 100 mM\n",
      "[8] 'dTTP' at 100 mM\n",
      "[9] 'dGTP' at 100 mM\n",
      "[10] 'dCTP' at 100 mM\n",
      "[11] 'N2-F3' at 100 mM\n",
      "[12] 'N2-B3' at 100 mM\n",
      "[13] 'N2-FIP' at 100 mM\n",
      "[14] 'N2-BIP' at 100 mM\n",
      "[15] 'N2-LF' at 100 mM\n",
      "[16] 'N2-LB' at 100 mM\n",
      "[17] 'Tris-HCl pH 8.8. Filtered' at 1000 mM\n",
      "[18] '(NH4)2SO4. Filtered' at 1000 mM\n",
      "[19] 'KCl. Filtered' at 2500 mM\n",
      "[20] 'MgSO4. Filtered' at 1000 mM\n",
      "[21] 'Tween® 20' at 100 %\n",
      "[22] 'DTT' at 100 mM\n"
     ]
    }
   ],
   "source": [
    "# display the current components\n",
    "rdm.print_list(components)#, attr = 'name')"
   ]
  },
  {
   "cell_type": "code",
   "execution_count": 31,
   "metadata": {},
   "outputs": [],
   "source": [
    "## add dNTPs sub components ##\n",
    "\n",
    "dNTPs = components[3]   # choose the number from previous list\n",
    "\n",
    "# common to all sub components\n",
    "sub_con = 10\n",
    "sub_units = 'mM'\n",
    "\n",
    "## add \n",
    "dATP = components[7]\n",
    "dNTPs.add_subcom(dATP, sub_con, sub_units)\n",
    "\n",
    "dTTP = components[8]\n",
    "dNTPs.add_subcom(dTTP, sub_con, sub_units)\n",
    "\n",
    "dGTP = components[9]\n",
    "dNTPs.add_subcom(dGTP, sub_con, sub_units)\n",
    "\n",
    "dCTP = components[10]\n",
    "dNTPs.add_subcom(dCTP, sub_con, sub_units)"
   ]
  },
  {
   "cell_type": "code",
   "execution_count": 32,
   "metadata": {},
   "outputs": [
    {
     "data": {
      "text/plain": [
       "{'concentration': 10,\n",
       " 'description': 'Deoxynucleotide Triphosphates dATP, dCTP, dGTP and dTTP in water solution',\n",
       " 'name': 'dNTPs',\n",
       " 'sub_comps': {'dATP': <rt_module.rt_data_manage.Component at 0x1dd4945bf98>,\n",
       "  'dCTP': <rt_module.rt_data_manage.Component at 0x1dd493801d0>,\n",
       "  'dGTP': <rt_module.rt_data_manage.Component at 0x1dd49380128>,\n",
       "  'dTTP': <rt_module.rt_data_manage.Component at 0x1dd49380080>},\n",
       " 'sub_cons': {'dATP': 10, 'dCTP': 10, 'dGTP': 10, 'dTTP': 10},\n",
       " 'sub_units': {'dATP': 'mM', 'dCTP': 'mM', 'dGTP': 'mM', 'dTTP': 'mM'},\n",
       " 'units': 'mM'}"
      ]
     },
     "execution_count": 32,
     "metadata": {},
     "output_type": "execute_result"
    }
   ],
   "source": [
    "## verify the conformation with rdm.inspect()\n",
    "rdm.inspect(components[3] )"
   ]
  },
  {
   "cell_type": "code",
   "execution_count": 33,
   "metadata": {},
   "outputs": [],
   "source": [
    "## add N2 set primers Mix at 10 X sub components ##\n",
    "\n",
    "N2_set = components[2]   # choose the number from previous list\n",
    "\n",
    "# common to all sub components\n",
    "sub_units = 'mM'\n",
    "\n",
    "## add \n",
    "F3 = components[11]\n",
    "sub_con = 16\n",
    "N2_set.add_subcom(F3, sub_con, sub_units)\n",
    "\n",
    "B3 = components[12]\n",
    "sub_con = 16\n",
    "N2_set.add_subcom(B3, sub_con, sub_units)\n",
    "\n",
    "FIP = components[13]\n",
    "sub_con = 2\n",
    "N2_set.add_subcom(FIP, sub_con, sub_units)\n",
    "\n",
    "BIP = components[14]\n",
    "sub_con = 2\n",
    "N2_set.add_subcom(BIP, sub_con, sub_units)\n",
    "\n",
    "LF = components[15]\n",
    "sub_con = 4\n",
    "N2_set.add_subcom(LF, sub_con, sub_units)\n",
    "\n",
    "LB = components[16]\n",
    "sub_con = 4\n",
    "N2_set.add_subcom(LB, sub_con, sub_units)\n",
    "\n"
   ]
  },
  {
   "cell_type": "code",
   "execution_count": 34,
   "metadata": {},
   "outputs": [],
   "source": [
    "# add HM Isothermal Amplification Buffer sub components\n",
    "HM_IAB = components[5]   # choose the number from previous list\n",
    "\n",
    "# common to all sub components\n",
    "sub_units = 'mM'\n",
    "\n",
    "## add \n",
    "Tris = components[17]\n",
    "sub_con = 200\n",
    "HM_IAB.add_subcom(Tris, sub_con, sub_units)\n",
    "\n",
    "SA = components[18]\n",
    "sub_con = 100\n",
    "HM_IAB.add_subcom(SA, sub_con, sub_units)\n",
    "\n",
    "KCL = components[19]\n",
    "sub_con = 500\n",
    "HM_IAB.add_subcom(KCL, sub_con, sub_units)\n",
    "\n",
    "SM = components[20]\n",
    "sub_con = 20\n",
    "HM_IAB.add_subcom(SM, sub_con, sub_units)\n",
    "\n",
    "Tween = components[21]\n",
    "sub_con = 1\n",
    "sub_units = '%'\n",
    "HM_IAB.add_subcom(Tween, sub_con, sub_units)\n",
    "\n",
    "# uncoment to verify is ok\n",
    "# rdm.inspect(HM_IAB)"
   ]
  },
  {
   "cell_type": "markdown",
   "metadata": {},
   "source": [
    "complete other recipes without object components (they weren´t assembled. It's their nominal recipe)"
   ]
  },
  {
   "cell_type": "code",
   "execution_count": 35,
   "metadata": {},
   "outputs": [],
   "source": [
    "# add HM Isothermal Amplification Buffer sub components\n",
    "NEB_IAB= components[4]   # choose the number from previous list\n",
    "\n",
    "# coomon to all sub components\n",
    "sub_units = 'mM'\n",
    "\n",
    "## add \n",
    "\n",
    "sub_con = 200\n",
    "NEB_IAB.add_subcom('Tris-HCl', sub_con, sub_units)\n",
    "\n",
    "sub_con = 100\n",
    "NEB_IAB.add_subcom('(NH4)2SO4', sub_con, sub_units)\n",
    "\n",
    "sub_con = 500\n",
    "NEB_IAB.add_subcom('KCl', sub_con, sub_units)\n",
    "\n",
    "sub_con = 20\n",
    "NEB_IAB.add_subcom('MgSO4', sub_con, sub_units)\n",
    "\n",
    "sub_con = 1\n",
    "sub_units = '%'\n",
    "NEB_IAB.add_subcom('Tween® 20', sub_con, sub_units)"
   ]
  },
  {
   "cell_type": "code",
   "execution_count": 36,
   "metadata": {},
   "outputs": [],
   "source": [
    "# add HM Isothermal Amplification Buffer sub components\n",
    "TPRB = components[6]   # choose the number from previous list\n",
    "\n",
    "# coomon to all sub components\n",
    "sub_units = 'mM'\n",
    "\n",
    "## add \n",
    "\n",
    "sub_con = 200\n",
    "TPRB.add_subcom('Tris-HCl', sub_con, sub_units)\n",
    "\n",
    "sub_con = 100\n",
    "TPRB.add_subcom('(NH4)2SO4', sub_con, sub_units)\n",
    "\n",
    "sub_con = 100\n",
    "TPRB.add_subcom('KCl', sub_con, sub_units)\n",
    "\n",
    "sub_con = 20\n",
    "TPRB.add_subcom('MgSO4', sub_con, sub_units)\n",
    "\n",
    "sub_con = 1\n",
    "sub_units = '%'\n",
    "TPRB.add_subcom('Triton® X-100', sub_con, sub_units)"
   ]
  },
  {
   "cell_type": "markdown",
   "metadata": {},
   "source": [
    "### create reaction objects"
   ]
  },
  {
   "cell_type": "code",
   "execution_count": 37,
   "metadata": {},
   "outputs": [
    {
     "name": "stdout",
     "output_type": "stream",
     "text": [
      "\n",
      " reactions  was added to the database\n",
      "\n"
     ]
    }
   ],
   "source": [
    "reactions = list()\n",
    "#database.add_element(reactions, 'reactions')    #run it if database doesn't have a reactions list"
   ]
  },
  {
   "cell_type": "markdown",
   "metadata": {},
   "source": [
    "create new reactions with `rdm.Reaction`<br>\n",
    "create a reaction froma previous one with `reaction_from_template()`<br>\n",
    "add new component to a reaction with `reaction.add_component()`<br>\n",
    "add enzyme with `reaction.add_enzyme()`<br>\n",
    "remove component or enzyme from a reaction with `reaction.remove_component()`<br>"
   ]
  },
  {
   "cell_type": "code",
   "execution_count": 38,
   "metadata": {},
   "outputs": [],
   "source": [
    "## define a reaction ##\n",
    "r_description = 'base RT-LAMP reaction, Home made buffer plus N2 primers set'\n",
    "r_name = 'RT-LAMP_N2_HMB'\n",
    "r_vol = 25\n",
    "\n",
    "# create and  append the reaction\n",
    "reactions.append(rdm.Reaction(r_name, r_vol, description = r_description))\n",
    "\n",
    "### add component ###\n",
    "r = reactions[0]\n",
    "\n",
    "Mg = components[1]\n",
    "vol = 1.5\n",
    "r.add_component(Mg, vol)\n",
    "\n",
    "buffer = components[5]  # HMIAB\n",
    "vol = 2.5\n",
    "r.add_component(buffer, vol)\n",
    "\n",
    "dNTP = components[3]\n",
    "vol = 3.5\n",
    "r.add_component(dNTP, vol)\n",
    "\n",
    "primers= components[2]  # N2\n",
    "vol = 2.5\n",
    "r.add_component(primers, vol)\n",
    "\n",
    "dye= components[0]   # Eva Green\n",
    "vol = 1.25\n",
    "r.add_component(dye, vol)"
   ]
  },
  {
   "cell_type": "markdown",
   "metadata": {},
   "source": [
    "###### create reactions from template"
   ]
  },
  {
   "cell_type": "markdown",
   "metadata": {},
   "source": [
    "Make a copy of some previously defined reaction and modify just the diferences"
   ]
  },
  {
   "cell_type": "code",
   "execution_count": 39,
   "metadata": {},
   "outputs": [],
   "source": [
    "## copy the base reaction of your choise ###\n",
    "template = reactions[0]\n",
    "new_name = 'RT-LAMP_N2_DTT_HMB'\n",
    "new_description = 'base RT-LAMP reaction, Home made buffer plus N2 primers and DTT'\n",
    "\n",
    "r = rdm.reaction_from_template(template, new_name, new_description)\n",
    "reactions.append(r)\n",
    "\n",
    "########\n",
    "# modify or add what is neccesary\n",
    "\n",
    "DTT= components[22]\n",
    "vol = 2.5\n",
    "r.add_component(DTT, vol)"
   ]
  },
  {
   "cell_type": "code",
   "execution_count": 7,
   "metadata": {},
   "outputs": [
    {
     "name": "stdout",
     "output_type": "stream",
     "text": [
      "HM Isothermal Amplification Buffer removed successfully\n"
     ]
    }
   ],
   "source": [
    "## copy the base reaction of your choise ###\n",
    "template = reactions[0]\n",
    "new_name = 'LAMP_N2_NEBIAB'\n",
    "new_description = 'LAMP reaction, NEB Isothermal Amplification buffer plus N2 primers'\n",
    "\n",
    "r = rdm.reaction_from_template(template, new_name, new_description)\n",
    "reactions.append(r)\n",
    "\n",
    "########\n",
    "# modify or add what is neccesary\n",
    "r.remove_component('HM Isothermal Amplification Buffer')\n",
    "\n",
    "buffer = components[4]  # NEB_IAB\n",
    "vol = 2.5\n",
    "r.add_component(buffer, vol)"
   ]
  },
  {
   "cell_type": "code",
   "execution_count": 8,
   "metadata": {},
   "outputs": [
    {
     "name": "stdout",
     "output_type": "stream",
     "text": [
      "HM Isothermal Amplification Buffer removed successfully\n"
     ]
    }
   ],
   "source": [
    "## copy the base reaction of your choise ###\n",
    "template = reactions[0]\n",
    "new_name = 'LAMP_N2_TPRB'\n",
    "new_description = 'LAMP reaction, NEB ThermoPol Reaction Buffer plus N2 primers'\n",
    "\n",
    "r = rdm.reaction_from_template(template, new_name, new_description)\n",
    "reactions.append(r)\n",
    "\n",
    "########\n",
    "# modify or add what is neccesary\n",
    "\n",
    "r.remove_component('HM Isothermal Amplification Buffer')\n",
    "\n",
    "buffer = components[6]  # NEB_TPRB\n",
    "vol = 2.5\n",
    "r.add_component(buffer, vol)"
   ]
  },
  {
   "cell_type": "code",
   "execution_count": 10,
   "metadata": {},
   "outputs": [
    {
     "data": {
      "text/plain": [
       "{'components': {'Evagreen': <rt_module.rt_data_manage.Component at 0x2b79b1781d0>,\n",
       "  'MgSO4': <rt_module.rt_data_manage.Component at 0x2b79b16d128>,\n",
       "  'N2 set primers Mix': <rt_module.rt_data_manage.Component at 0x2b79b1782b0>,\n",
       "  'ThermoPol® Reaction Buffer': <rt_module.rt_data_manage.Component at 0x2b79ee29080>,\n",
       "  'dNTPs': <rt_module.rt_data_manage.Component at 0x2b79b16df98>},\n",
       " 'concentrations': {'Evagreen': 1.0,\n",
       "  'MgSO4': 6.0,\n",
       "  'N2 set primers Mix': 1.0,\n",
       "  'ThermoPol® Reaction Buffer': 1.0,\n",
       "  'dNTPs': 1.4},\n",
       " 'description': 'LAMP reaction, NEB ThermoPol Reaction Buffer plus N2 primers',\n",
       " 'name': 'LAMP_N2_TPRB',\n",
       " 'units': {'Evagreen': 'X',\n",
       "  'MgSO4': 'mM',\n",
       "  'N2 set primers Mix': 'X',\n",
       "  'ThermoPol® Reaction Buffer': 'X',\n",
       "  'dNTPs': 'mM'},\n",
       " 'vols': {'Evagreen': 1.25,\n",
       "  'MgSO4': 1.5,\n",
       "  'N2 set primers Mix': 2.5,\n",
       "  'ThermoPol® Reaction Buffer': 2.5,\n",
       "  'dNTPs': 3.5},\n",
       " 'volume': 25}"
      ]
     },
     "execution_count": 10,
     "metadata": {},
     "output_type": "execute_result"
    }
   ],
   "source": [
    "## inspect any reaction of your choise\n",
    "rdm.inspect(reactions[-1])     # put reaction number inside []"
   ]
  },
  {
   "cell_type": "markdown",
   "metadata": {},
   "source": [
    "### create enzymes objects <br>\n",
    "create an enzyme element for each dilution you have or use"
   ]
  },
  {
   "cell_type": "code",
   "execution_count": 42,
   "metadata": {},
   "outputs": [
    {
     "name": "stdout",
     "output_type": "stream",
     "text": [
      "\n",
      " enzymes  was added to the database\n",
      "\n"
     ]
    }
   ],
   "source": [
    "#enzymes = list()  # run it if you don´t load the enzymes from database\n",
    "#database.add_element(enzymes, 'enzymes')   #run it in case database doesn't have a enzyme list"
   ]
  },
  {
   "cell_type": "code",
   "execution_count": 43,
   "metadata": {},
   "outputs": [],
   "source": [
    "e_name = 'Bst2.0 warmstart'\n",
    "coded_name = 'Bst2.0'\n",
    "m_uL = None           # mass per uL\n",
    "m_units = '$\\mu g/ \\mu L$'     # ug /uL\n",
    "Units = 8     # enzyme units per uL\n",
    "d_factor = 1   # dilution factor from stock\n",
    "lote = 1\n",
    "descrip = 'NEB Bst 2.0 warmstart'\n",
    "\n",
    "enzymes.append(rdm.Enzyme(e_name, coded_name,  concentration = m_uL , units = m_units, U_uL = Units,\n",
    "                          dil_factor= d_factor,lote=lote, description = descrip))"
   ]
  },
  {
   "cell_type": "code",
   "execution_count": 44,
   "metadata": {},
   "outputs": [],
   "source": [
    "#bst2 = database.elements['enzymes'][0]\n",
    "bst2 = enzymes[0]"
   ]
  },
  {
   "cell_type": "code",
   "execution_count": 45,
   "metadata": {},
   "outputs": [],
   "source": [
    "bst2.concentration = 0.22188865403340263 #0.22188924430346288 "
   ]
  },
  {
   "cell_type": "code",
   "execution_count": 46,
   "metadata": {},
   "outputs": [],
   "source": [
    "e_name = 'BstLF NEB'\n",
    "coded_name = 'BstLF'\n",
    "m_uL = None           # mass per uL\n",
    "m_units = '$\\mu g/ \\mu L$'     # ug /uL\n",
    "Units = 8     # enzyme units per uL\n",
    "d_factor = 1   # dilution factor from stock\n",
    "lote = 1\n",
    "descrip = 'Bst DNA Polymerase, Large Fragment'\n",
    "\n",
    "enzymes.append(rdm.Enzyme(e_name, coded_name,  concentration = m_uL , units = m_units, U_uL = Units,\n",
    "                          dil_factor= d_factor,lote=lote, description = descrip))\n"
   ]
  },
  {
   "cell_type": "code",
   "execution_count": 47,
   "metadata": {},
   "outputs": [],
   "source": [
    "e_name = 'BstLF'\n",
    "coded_name = 'BstHMD1'\n",
    "m_uL = 2.0           # mass per uL\n",
    "m_units = '$\\mu g/ \\mu L$'     # ug /uL\n",
    "d_factor = 1   # dilution factor from stock\n",
    "lote = 1\n",
    "descrip = 'Home made BstLF non diluted stock'\n",
    "\n",
    "enzymes.append(rdm.Enzyme(e_name, coded_name,  concentration = m_uL , units = m_units, \n",
    "                          dil_factor= d_factor,lote=lote, description = descrip))"
   ]
  },
  {
   "cell_type": "code",
   "execution_count": 12,
   "metadata": {},
   "outputs": [
    {
     "name": "stdout",
     "output_type": "stream",
     "text": [
      "[0] 'Bst2.0 warmstart' at 0.22188924430346288 $\\mu g/ \\mu L$\n",
      "[1] 'BstLF NEB' at None $\\mu g/ \\mu L$\n",
      "[2] 'BstLF' at 2.0 $\\mu g/ \\mu L$\n",
      "[3] 'BstLF' at 0.4136136133303303 $\\mu g/ \\mu L$\n",
      "[4] 'BstLF' at 0.22188924430346288 $\\mu g/ \\mu L$\n",
      "[5] 'BstLF' at 0.11094462215173144 $\\mu g/ \\mu L$\n",
      "[6] 'BstLF' at 0.13333333333333333 $\\mu g/ \\mu L$\n",
      "[7] 'BstLF' at 0.26666666666666666 $\\mu g/ \\mu L$\n",
      "[8] 'BstLF' at 0.5333333333333333 $\\mu g/ \\mu L$\n",
      "[9] 'MMLV' at 200 $ ng/ \\mu L$\n",
      "[10] 'MMLV' at 6.25 $ ng/ \\mu L$\n",
      "[11] 'MMLV' at 3.125 $ ng/ \\mu L$\n",
      "[12] 'MMLV' at 1.5625 $ ng/ \\mu L$\n",
      "[13] 'RTx warmstart NEB' at None $\\mu g/ \\mu L$\n"
     ]
    }
   ],
   "source": [
    "#rdm.print_list(database.elements['enzymes'])\n",
    "rdm.print_list(enzymes)"
   ]
  },
  {
   "cell_type": "code",
   "execution_count": 13,
   "metadata": {},
   "outputs": [],
   "source": [
    "#bstHM_stock = database.elements['enzymes'][2]\n",
    "bstHM_stock = enzymes[2]"
   ]
  },
  {
   "cell_type": "code",
   "execution_count": 50,
   "metadata": {},
   "outputs": [],
   "source": [
    "e_name = 'BstLF'\n",
    "coded_name = 'BstHMDO'\n",
    "m_uL = 0.41361361361361365           # mass per uL\n",
    "m_units = '$\\mu g/ \\mu L$'     # ug /uL\n",
    "d_factor = bstHM_stock.concentration/m_uL   # dilution factor from stock\n",
    "lote = 1\n",
    "descrip = 'Home made BstLF at computed optimal concentraction'\n",
    "\n",
    "enzymes.append(rdm.Enzyme(e_name, coded_name,  concentration = m_uL , units = m_units, \n",
    "                          dil_factor= d_factor,lote=lote, description = descrip))"
   ]
  },
  {
   "cell_type": "code",
   "execution_count": 51,
   "metadata": {},
   "outputs": [],
   "source": [
    "e_name = 'BstLF'\n",
    "coded_name = 'BstHMDE'\n",
    "m_uL = bst2.concentration           # mass per uL\n",
    "m_units = '$\\mu g/ \\mu L$'     # ug /uL\n",
    "d_factor = bstHM_stock.concentration/m_uL   # dilution factor from stock\n",
    "lote = 1\n",
    "descrip = 'Home made BstLF at concentraction equivalent to Bst2.0 NEB'\n",
    "\n",
    "enzymes.append(rdm.Enzyme(e_name, coded_name,  concentration = m_uL , units = m_units, \n",
    "                          dil_factor= d_factor,lote=lote, description = descrip))"
   ]
  },
  {
   "cell_type": "code",
   "execution_count": 52,
   "metadata": {},
   "outputs": [],
   "source": [
    "e_name = 'BstLF'\n",
    "coded_name = 'BstHMD20'\n",
    "m_uL = bst2.concentration/2           # mass per uL\n",
    "m_units = '$\\mu g/ \\mu L$'     # ug /uL\n",
    "d_factor = bstHM_stock.concentration/m_uL   # dilution factor from stock\n",
    "lote = 1\n",
    "descrip = 'Home made BstLF at low concentration (half the concentration of BstHMDE)'\n",
    "\n",
    "enzymes.append(rdm.Enzyme(e_name, coded_name,  concentration = m_uL , units = m_units, \n",
    "                          dil_factor= d_factor,lote=lote, description = descrip))"
   ]
  },
  {
   "cell_type": "code",
   "execution_count": 53,
   "metadata": {},
   "outputs": [],
   "source": [
    "e_name = 'BstLF'\n",
    "coded_name = 'BstHM16'\n",
    "d_factor = 15   # dilution factor from stock\n",
    "m_uL = bstHM_stock.concentration/d_factor           # mass per uL\n",
    "\n",
    "m_units = '$\\mu g/ \\mu L$'     # ug /uL\n",
    "lote = 1\n",
    "descrip = 'Home made BstLF at low concentration, serially diluted 2 times from BstHM32'\n",
    "\n",
    "enzymes.append(rdm.Enzyme(e_name, coded_name,  concentration = m_uL , units = m_units, \n",
    "                          dil_factor= d_factor,lote=lote, description = descrip))"
   ]
  },
  {
   "cell_type": "code",
   "execution_count": 54,
   "metadata": {},
   "outputs": [],
   "source": [
    "e_name = 'BstLF'\n",
    "coded_name = 'BstHM32'\n",
    "d_factor = 7.5   # dilution factor from stock\n",
    "m_uL = bstHM_stock.concentration/d_factor           # mass per uL\n",
    "\n",
    "m_units = '$\\mu g/ \\mu L$'     # ug /uL\n",
    "lote = 1\n",
    "descrip = 'Home made BstLF at medium concentration, serially diluted 2 times from BstHM64'\n",
    "\n",
    "enzymes.append(rdm.Enzyme(e_name, coded_name,  concentration = m_uL , units = m_units, \n",
    "                          dil_factor= d_factor,lote=lote, description = descrip))"
   ]
  },
  {
   "cell_type": "code",
   "execution_count": 55,
   "metadata": {},
   "outputs": [],
   "source": [
    "e_name = 'BstLF'\n",
    "coded_name = 'BstHM64'\n",
    "d_factor = 3.75   # dilution factor from stock\n",
    "m_uL = bstHM_stock.concentration/d_factor           # mass per uL\n",
    "\n",
    "m_units = '$\\mu g/ \\mu L$'     # ug /uL\n",
    "lote = 1\n",
    "descrip = 'Home made BstLF at high concentration, diluted 3.75 times from stock'\n",
    "\n",
    "enzymes.append(rdm.Enzyme(e_name, coded_name,  concentration = m_uL , units = m_units, \n",
    "                          dil_factor= d_factor,lote=lote, description = descrip))"
   ]
  },
  {
   "cell_type": "code",
   "execution_count": 14,
   "metadata": {},
   "outputs": [],
   "source": [
    "e_name = 'BstLF'\n",
    "coded_name = 'BstHMND1'\n",
    "d_factor = 1.875   # dilution factor from stock\n",
    "m_uL = bstHM_stock.concentration/d_factor           # mass per uL\n",
    "\n",
    "m_units = '$\\mu g/ \\mu L$'     # ug /uL\n",
    "lote = 1\n",
    "descrip = 'Home made BstLF at high concentration, diluted 1.875 times from stock'\n",
    "\n",
    "enzymes.append(rdm.Enzyme(e_name, coded_name,  concentration = m_uL , units = m_units, \n",
    "                          dil_factor= d_factor,lote=lote, description = descrip))"
   ]
  },
  {
   "cell_type": "code",
   "execution_count": 18,
   "metadata": {},
   "outputs": [],
   "source": [
    "e_name = 'BstLF'\n",
    "coded_name = 'BstHMND5'\n",
    "d_factor = 30   # dilution factor from stock\n",
    "m_uL = bstHM_stock.concentration/d_factor           # mass per uL\n",
    "\n",
    "m_units = '$\\mu g/ \\mu L$'     # ug /uL\n",
    "lote = 1\n",
    "descrip = 'Home made BstLF at very low concentration, diluted 30 times from stock'\n",
    "\n",
    "enzymes.append(rdm.Enzyme(e_name, coded_name,  concentration = m_uL , units = m_units, \n",
    "                          dil_factor= d_factor,lote=lote, description = descrip))"
   ]
  },
  {
   "cell_type": "markdown",
   "metadata": {},
   "source": [
    "#### assign the equivalent enzyme Units to home made BstLF"
   ]
  },
  {
   "cell_type": "code",
   "execution_count": 56,
   "metadata": {},
   "outputs": [
    {
     "name": "stdout",
     "output_type": "stream",
     "text": [
      "72.10804674298626\n",
      "14.912434881779452\n",
      "8.0\n",
      "4.0\n",
      "4.8072031161990845\n",
      "9.614406232398169\n",
      "19.228812464796338\n"
     ]
    }
   ],
   "source": [
    "for enzyme in enzymes[2:]:\n",
    "    if enzyme.name == 'BstLF':\n",
    "    \n",
    "        enzyme.assign_U(bst2)    # use Bst2 as reference\n",
    "    \n",
    "\n",
    "    print(enzyme.U_uL)"
   ]
  },
  {
   "cell_type": "code",
   "execution_count": null,
   "metadata": {},
   "outputs": [],
   "source": [
    "# This are the updated values:\n",
    "72.10823856541757\n",
    "14.912474562177449\n",
    "8.0\n",
    "4.0\n",
    "4.807215904361171\n",
    "9.614431808722342\n",
    "19.228863617444684\n",
    "38.45772723488937\n",
    "2.4036079521805855\n",
    "36.05411928270878"
   ]
  },
  {
   "cell_type": "markdown",
   "metadata": {},
   "source": [
    "#### Add some MMLV enzymes dilutions"
   ]
  },
  {
   "cell_type": "code",
   "execution_count": 57,
   "metadata": {},
   "outputs": [],
   "source": [
    "e_name = 'MMLV'\n",
    "coded_name = 'MMLV1'\n",
    "m_uL = 200           # mass per uL\n",
    "m_units = '$ ng/ \\mu L$'     # ug /uL\n",
    "\n",
    "Units = None     # enzyme units per uL\n",
    "d_factor = 1   # dilution factor from stock\n",
    "lote = 1\n",
    "descrip = 'M-MLV Reverse Transcriptase, Home made elaboration. Non diluted stock'\n",
    "\n",
    "enzymes.append(rdm.Enzyme(e_name, coded_name,  concentration = m_uL , units = m_units, U_uL = Units,\n",
    "                          dil_factor= d_factor,lote=lote, description = descrip))"
   ]
  },
  {
   "cell_type": "code",
   "execution_count": 58,
   "metadata": {},
   "outputs": [
    {
     "name": "stdout",
     "output_type": "stream",
     "text": [
      "[0] 'Bst2.0 warmstart' at 0.22188924430346288 $\\mu g/ \\mu L$\n",
      "[1] 'BstLF NEB' at None $\\mu g/ \\mu L$\n",
      "[2] 'BstLF' at 2.0 $\\mu g/ \\mu L$\n",
      "[3] 'BstLF' at 0.4136136133303303 $\\mu g/ \\mu L$\n",
      "[4] 'BstLF' at 0.22188924430346288 $\\mu g/ \\mu L$\n",
      "[5] 'BstLF' at 0.11094462215173144 $\\mu g/ \\mu L$\n",
      "[6] 'BstLF' at 0.13333333333333333 $\\mu g/ \\mu L$\n",
      "[7] 'BstLF' at 0.26666666666666666 $\\mu g/ \\mu L$\n",
      "[8] 'BstLF' at 0.5333333333333333 $\\mu g/ \\mu L$\n",
      "[9] 'MMLV' at 200 $ ng/ \\mu L$\n"
     ]
    }
   ],
   "source": [
    "#rdm.print_list(database.elements['enzymes'])\n",
    "rdm.print_list(enzymes)"
   ]
  },
  {
   "cell_type": "code",
   "execution_count": 59,
   "metadata": {},
   "outputs": [],
   "source": [
    "## define the MMLV_stock\n",
    "#MMLV_stock = database.elements['enzymes'][9]   #check it from the store enzymes\n",
    "MMLV_stock = enzymes[9]"
   ]
  },
  {
   "cell_type": "code",
   "execution_count": 60,
   "metadata": {},
   "outputs": [],
   "source": [
    "e_name = 'MMLV'\n",
    "coded_name = 'MMLV32'\n",
    "d_factor = 32          # dilution factor from stock\n",
    "\n",
    "m_uL = MMLV_stock.concentration/d_factor           # mass per uL\n",
    "m_units = MMLV_stock.units      # ug /uL\n",
    "Units = None              # enzyme units per uL\n",
    "lote = 1\n",
    "descrip = 'M-MLV Reverse Transcriptase, Home made elaboration. 32 times dilution'\n",
    "\n",
    "enzymes.append(rdm.Enzyme(e_name, coded_name,  concentration = m_uL , units = m_units, U_uL = Units,\n",
    "                          dil_factor= d_factor,lote=lote, description = descrip))"
   ]
  },
  {
   "cell_type": "code",
   "execution_count": 61,
   "metadata": {},
   "outputs": [],
   "source": [
    "e_name = 'MMLV'\n",
    "coded_name = 'MMLV64'\n",
    "d_factor = 64          # dilution factor from stock\n",
    "\n",
    "m_uL = MMLV_stock.concentration/d_factor           # mass per uL\n",
    "m_units = MMLV_stock.units      # ug /uL\n",
    "Units = None              # enzyme units per uL\n",
    "lote = 1\n",
    "descrip = 'M-MLV Reverse Transcriptase, Home made elaboration. 64 times dilution '\n",
    "\n",
    "enzymes.append(rdm.Enzyme(e_name, coded_name,  concentration = m_uL , units = m_units, U_uL = Units,\n",
    "                          dil_factor= d_factor,lote=lote, description = descrip))"
   ]
  },
  {
   "cell_type": "code",
   "execution_count": 62,
   "metadata": {},
   "outputs": [],
   "source": [
    "e_name = 'MMLV'\n",
    "coded_name = 'MMLV128'\n",
    "d_factor = 128          # dilution factor from stock\n",
    "\n",
    "m_uL = MMLV_stock.concentration/d_factor           # mass per uL\n",
    "m_units = MMLV_stock.units      # ug /uL\n",
    "Units = None              # enzyme units per uL\n",
    "lote = 1\n",
    "descrip = 'M-MLV Reverse Transcriptase, Home made elaboration. 128 times dilution '\n",
    "\n",
    "enzymes.append(rdm.Enzyme(e_name, coded_name,  concentration = m_uL , units = m_units, U_uL = Units,\n",
    "                          dil_factor= d_factor,lote=lote, description = descrip))"
   ]
  },
  {
   "cell_type": "code",
   "execution_count": 63,
   "metadata": {},
   "outputs": [
    {
     "data": {
      "text/plain": [
       "{'U_uL': None,\n",
       " 'coded_name': 'MMLV128',\n",
       " 'concentration': 1.5625,\n",
       " 'description': 'M-MLV Reverse Transcriptase, Home made elaboration. 128 times dilution ',\n",
       " 'dil_factor': 128,\n",
       " 'lote': 1,\n",
       " 'name': 'MMLV',\n",
       " 'units': '$ ng/ \\\\mu L$'}"
      ]
     },
     "execution_count": 63,
     "metadata": {},
     "output_type": "execute_result"
    }
   ],
   "source": [
    "rdm.inspect(enzymes[-1])"
   ]
  },
  {
   "cell_type": "markdown",
   "metadata": {},
   "source": [
    "##### other enzymes"
   ]
  },
  {
   "cell_type": "code",
   "execution_count": 64,
   "metadata": {},
   "outputs": [],
   "source": [
    "e_name = 'RTx warmstart NEB'\n",
    "coded_name = 'RTx NEB'\n",
    "m_uL = None           # mass per uL\n",
    "m_units = '$\\mu g/ \\mu L$'     # ug /uL\n",
    "Units = 15     # enzyme units per uL\n",
    "d_factor = 1   # dilution factor from stock\n",
    "lote = 1\n",
    "descrip = 'WarmStart RTx Reverse Transcriptase'\n",
    "\n",
    "enzymes.append(rdm.Enzyme(e_name, coded_name,  concentration = m_uL , units = m_units, U_uL = Units,\n",
    "                          dil_factor= d_factor,lote=lote, description = descrip))"
   ]
  },
  {
   "cell_type": "code",
   "execution_count": 65,
   "metadata": {},
   "outputs": [
    {
     "name": "stdout",
     "output_type": "stream",
     "text": [
      "[0] 'Bst2.0 warmstart' at 0.22188924430346288 $\\mu g/ \\mu L$\n",
      "[1] 'BstLF NEB' at None $\\mu g/ \\mu L$\n",
      "[2] 'BstLF' at 2.0 $\\mu g/ \\mu L$\n",
      "[3] 'BstLF' at 0.4136136133303303 $\\mu g/ \\mu L$\n",
      "[4] 'BstLF' at 0.22188924430346288 $\\mu g/ \\mu L$\n",
      "[5] 'BstLF' at 0.11094462215173144 $\\mu g/ \\mu L$\n",
      "[6] 'BstLF' at 0.13333333333333333 $\\mu g/ \\mu L$\n",
      "[7] 'BstLF' at 0.26666666666666666 $\\mu g/ \\mu L$\n",
      "[8] 'BstLF' at 0.5333333333333333 $\\mu g/ \\mu L$\n",
      "[9] 'MMLV' at 200 $ ng/ \\mu L$\n",
      "[10] 'MMLV' at 6.25 $ ng/ \\mu L$\n",
      "[11] 'MMLV' at 3.125 $ ng/ \\mu L$\n",
      "[12] 'MMLV' at 1.5625 $ ng/ \\mu L$\n",
      "[13] 'RTx warmstart NEB' at None $\\mu g/ \\mu L$\n"
     ]
    }
   ],
   "source": [
    "#rdm.print_list(database.elements['enzymes'])\n",
    "rdm.print_list(enzymes)"
   ]
  },
  {
   "cell_type": "markdown",
   "metadata": {},
   "source": [
    "### database update"
   ]
  },
  {
   "cell_type": "code",
   "execution_count": 16,
   "metadata": {},
   "outputs": [
    {
     "name": "stdout",
     "output_type": "stream",
     "text": [
      "RT-LAMP_N2_HMB was previously in reactions. Not added again\n",
      "RT-LAMP_N2_DTT_HMB was previously in reactions. Not added again\n",
      "RT-LAMP_N2_DTT_HMB_enzymes was previously in reactions. Not added again\n",
      "RT-LAMP_N2_DTT_HMB_enzymes was previously in reactions. Not added again\n",
      "RT-LAMP_N2_DTT_HMB_enzymes was previously in reactions. Not added again\n",
      "RT-LAMP_N2_DTT_HMB_enzymes was previously in reactions. Not added again\n",
      "RT-LAMP_N2_DTT_HMB_enzymes was previously in reactions. Not added again\n",
      "RT-LAMP_N2_DTT_HMB_enzymes was previously in reactions. Not added again\n",
      "RT-LAMP_N2_DTT_HMB_enzymes was previously in reactions. Not added again\n",
      "RT-LAMP_N2_DTT_HMB_enzymes was previously in reactions. Not added again\n",
      "RT-LAMP_N2_DTT_HMB_enzymes was previously in reactions. Not added again\n",
      "RT-LAMP_N2_DTT_HMB_enzymes was previously in reactions. Not added again\n",
      "RT-LAMP_N2_DTT_HMB_enzymes was previously in reactions. Not added again\n",
      "RT-LAMP_N2_HMB_enzymes was previously in reactions. Not added again\n",
      "RT-LAMP_N2_DTT_HMB_enzymes was previously in reactions. Not added again\n",
      "RT-LAMP_N2_DTT_HMB_enzymes was previously in reactions. Not added again\n",
      "RT-LAMP_N2_DTT_HMB_enzymes was previously in reactions. Not added again\n",
      "LAMP_N2_NEBIAB was previously in reactions. Not added again\n",
      "LAMP_N2_TPRB was previously in reactions. Not added again\n",
      "'Evagreen' at 20 X was previously in components. Not added again\n",
      "'MgSO4' at 100 mM was previously in components. Not added again\n",
      "'N2 set primers Mix' at 10 X was previously in components. Not added again\n",
      "'dNTPs' at 10 mM was previously in components. Not added again\n",
      "'NEB Isothermal Amplification Buffer' at 10 X was previously in components. Not added again\n",
      "'HM Isothermal Amplification Buffer' at 10 X was previously in components. Not added again\n",
      "'ThermoPol® Reaction Buffer' at 10 X was previously in components. Not added again\n",
      "'dATP' at 100 mM was previously in components. Not added again\n",
      "'dTTP' at 100 mM was previously in components. Not added again\n",
      "'dGTP' at 100 mM was previously in components. Not added again\n",
      "'dCTP' at 100 mM was previously in components. Not added again\n",
      "'N2-F3' at 100 mM was previously in components. Not added again\n",
      "'N2-B3' at 100 mM was previously in components. Not added again\n",
      "'N2-FIP' at 100 mM was previously in components. Not added again\n",
      "'N2-BIP' at 100 mM was previously in components. Not added again\n",
      "'N2-LF' at 100 mM was previously in components. Not added again\n",
      "'N2-LB' at 100 mM was previously in components. Not added again\n",
      "'Tris-HCl pH 8.8. Filtered' at 1000 mM was previously in components. Not added again\n",
      "'(NH4)2SO4. Filtered' at 1000 mM was previously in components. Not added again\n",
      "'KCl. Filtered' at 2500 mM was previously in components. Not added again\n",
      "'MgSO4. Filtered' at 1000 mM was previously in components. Not added again\n",
      "'Tween® 20' at 100 % was previously in components. Not added again\n",
      "'DTT' at 100 mM was previously in components. Not added again\n",
      "'Bst2.0 warmstart' at 0.22188924430346288 $\\mu g/ \\mu L$ was previously in enzymes. Not added again\n",
      "'BstLF NEB' at None $\\mu g/ \\mu L$ was previously in enzymes. Not added again\n",
      "'BstLF' at 2.0 $\\mu g/ \\mu L$ was previously in enzymes. Not added again\n",
      "'BstLF' at 0.4136136133303303 $\\mu g/ \\mu L$ was previously in enzymes. Not added again\n",
      "'BstLF' at 0.22188924430346288 $\\mu g/ \\mu L$ was previously in enzymes. Not added again\n",
      "'BstLF' at 0.11094462215173144 $\\mu g/ \\mu L$ was previously in enzymes. Not added again\n",
      "'BstLF' at 0.13333333333333333 $\\mu g/ \\mu L$ was previously in enzymes. Not added again\n",
      "'BstLF' at 0.26666666666666666 $\\mu g/ \\mu L$ was previously in enzymes. Not added again\n",
      "'BstLF' at 0.5333333333333333 $\\mu g/ \\mu L$ was previously in enzymes. Not added again\n",
      "'MMLV' at 200 $ ng/ \\mu L$ was previously in enzymes. Not added again\n",
      "'MMLV' at 6.25 $ ng/ \\mu L$ was previously in enzymes. Not added again\n",
      "'MMLV' at 3.125 $ ng/ \\mu L$ was previously in enzymes. Not added again\n",
      "'MMLV' at 1.5625 $ ng/ \\mu L$ was previously in enzymes. Not added again\n",
      "'RTx warmstart NEB' at None $\\mu g/ \\mu L$ was previously in enzymes. Not added again\n",
      "'BstLF' at 1.0666666666666667 $\\mu g/ \\mu L$ was previously in enzymes. Not added again\n"
     ]
    }
   ],
   "source": [
    "## add all the new objects to the database\n",
    "database.append_objs('reactions', reactions)\n",
    "database.append_objs('components', components)\n",
    "database.append_objs('enzymes', enzymes)"
   ]
  },
  {
   "cell_type": "code",
   "execution_count": 19,
   "metadata": {},
   "outputs": [
    {
     "name": "stdout",
     "output_type": "stream",
     "text": [
      "\n",
      "there is a previous version of \" LAMP_COVID.pkl \" file\n",
      "\n",
      "do you want to update it? (y/n): y\n",
      "\n",
      "file \" LAMP_COVID.pkl \" was updated\n"
     ]
    }
   ],
   "source": [
    "# update the database\n",
    "database.save()"
   ]
  },
  {
   "cell_type": "code",
   "execution_count": null,
   "metadata": {},
   "outputs": [],
   "source": []
  },
  {
   "cell_type": "code",
   "execution_count": null,
   "metadata": {},
   "outputs": [],
   "source": []
  },
  {
   "cell_type": "code",
   "execution_count": 64,
   "metadata": {},
   "outputs": [],
   "source": [
    "database.elements['reactions'] = reactions\n",
    "database.elements['components'] = components\n",
    "database.elements['enzymes'] = enzymes"
   ]
  },
  {
   "cell_type": "code",
   "execution_count": null,
   "metadata": {},
   "outputs": [],
   "source": []
  }
 ],
 "metadata": {
  "kernelspec": {
   "display_name": "Python 3",
   "language": "python",
   "name": "python3"
  },
  "language_info": {
   "codemirror_mode": {
    "name": "ipython",
    "version": 3
   },
   "file_extension": ".py",
   "mimetype": "text/x-python",
   "name": "python",
   "nbconvert_exporter": "python",
   "pygments_lexer": "ipython3",
   "version": "3.6.4"
  }
 },
 "nbformat": 4,
 "nbformat_minor": 2
}
